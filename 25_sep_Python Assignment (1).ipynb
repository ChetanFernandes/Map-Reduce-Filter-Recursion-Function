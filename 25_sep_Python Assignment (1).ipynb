{
 "cells": [
  {
   "cell_type": "code",
   "execution_count": null,
   "id": "bdf98844-25f7-4cef-b04f-a11f228c834c",
   "metadata": {},
   "outputs": [],
   "source": [
    "\"\"\"For Loop Assignment Questions\"\"\""
   ]
  },
  {
   "cell_type": "code",
   "execution_count": 112,
   "id": "f344b6f8-e4ee-483b-ab71-b76ec16b973c",
   "metadata": {},
   "outputs": [
    {
     "name": "stdout",
     "output_type": "stream",
     "text": [
      "[1, 2, 3, 4, 5, 6, 7, 8, 9, 10]\n"
     ]
    }
   ],
   "source": [
    "# Question 1\n",
    "a = [i for i in range(1,11)]\n",
    "print(a)"
   ]
  },
  {
   "cell_type": "code",
   "execution_count": null,
   "id": "dd42c4e2-3b52-448b-9b1b-a4f23ab46ed2",
   "metadata": {},
   "outputs": [],
   "source": [
    "# Question 2\n",
    "#Explain difference between for loop and while loop\n",
    "\"\"\"for loop - Is used to iterate over a sequence of items, such as a Python tuple, list, string, or range. \n",
    "The loop will execute a block of statements for each item in the sequence.\n",
    "syntax - for var in iterable\"\"\"\n",
    "\"\"\"\n",
    "While loop - while loop is used to repeatedly execute a block of statements while a condition is true. \n",
    "The loop will continue to run as long as the condition remains true\n",
    "Syntax:\n",
    "while condition:\n",
    "  # Set of statements  \"\"\""
   ]
  },
  {
   "cell_type": "code",
   "execution_count": 114,
   "id": "e2c86f9e-1a2b-4d55-ba91-8b47d4065983",
   "metadata": {},
   "outputs": [
    {
     "name": "stdout",
     "output_type": "stream",
     "text": [
      "Sum of numbers from 1 to 100 are -  5050\n"
     ]
    }
   ],
   "source": [
    "#Question 3\n",
    "a = sum([ i for i in range(1,101)])\n",
    "print(\"Sum of numbers from 1 to 100 are - \", a)"
   ]
  },
  {
   "cell_type": "code",
   "execution_count": 115,
   "id": "2e948cb2-dfff-4646-83b6-fe8578b637f1",
   "metadata": {},
   "outputs": [
    {
     "name": "stdout",
     "output_type": "stream",
     "text": [
      "Element in the list -  1 2 3 4 5 6 7 8 9 10 "
     ]
    }
   ],
   "source": [
    "# Question 4\n",
    "l = [1,2,3,4,5,6,7,8,9,10]\n",
    "print(\"Element in the list - \", end =\" \")\n",
    "for i in l:\n",
    "    print(i, end = \" \")"
   ]
  },
  {
   "cell_type": "code",
   "execution_count": 116,
   "id": "bc9de123-0d6f-4c80-995f-68977f0da2cc",
   "metadata": {},
   "outputs": [
    {
     "name": "stdout",
     "output_type": "stream",
     "text": [
      "Product of elements in list -  3628800\n"
     ]
    }
   ],
   "source": [
    "# Question 5\n",
    "l = [1,2,3,4,5,6,7,8,9,10]\n",
    "s = 1\n",
    "for i in l:\n",
    "    s = s * i\n",
    "print(\"Product of elements in list - \", s)"
   ]
  },
  {
   "cell_type": "code",
   "execution_count": 117,
   "id": "615ddb44-72e9-4c38-b00f-92588284698a",
   "metadata": {},
   "outputs": [
    {
     "name": "stdout",
     "output_type": "stream",
     "text": [
      "Even numbers -  [2, 4, 6, 8, 10, 12, 14, 16, 18, 20]\n"
     ]
    }
   ],
   "source": [
    "#Question 6\n",
    "even_numbers = [i for i in range(1,21) if i%2==0]\n",
    "print(\"Even numbers - \",even_numbers)"
   ]
  },
  {
   "cell_type": "code",
   "execution_count": 118,
   "id": "8b1b7b22-b8d9-4d57-bdfc-14f89e00a984",
   "metadata": {},
   "outputs": [
    {
     "name": "stdin",
     "output_type": "stream",
     "text": [
      "Enter the number 5\n"
     ]
    },
    {
     "name": "stdout",
     "output_type": "stream",
     "text": [
      "Factorial of given number -  120\n"
     ]
    }
   ],
   "source": [
    "#Question 7\n",
    "n = int(input('Enter the number'))\n",
    "factorial = 1\n",
    "if i == 0:\n",
    "    print(1)\n",
    "if i == 1:\n",
    "    print(1)\n",
    "for i in range(2,n+1):\n",
    "    factorial = factorial * i\n",
    "print(\"Factorial of given number - \", factorial)"
   ]
  },
  {
   "cell_type": "code",
   "execution_count": 119,
   "id": "6ea63083-3bb1-4b9d-b1cd-57fb138a13ef",
   "metadata": {},
   "outputs": [
    {
     "name": "stdout",
     "output_type": "stream",
     "text": [
      "Print the characters of string -  ['P', 'y', 't', 'h', 'o', 'n', ' ', 'i', 's', ' ', 'b', 'e', 'a', 'u', 't', 'i', 'f', 'u', 'l', ' ', 'l', 'a', 'b', 'g', 'u', 'a', 'g', 'e']"
     ]
    }
   ],
   "source": [
    "#Question 8\n",
    "str1 = \"Python is beautiful labguage\"\n",
    "str2 = [i for i in str1]\n",
    "print(\"Print the characters of string - \", str2, end = \"\")"
   ]
  },
  {
   "cell_type": "code",
   "execution_count": 120,
   "id": "96755c09-fed9-4ceb-b169-d68273cc7f23",
   "metadata": {},
   "outputs": [
    {
     "name": "stdout",
     "output_type": "stream",
     "text": [
      "Maximum number from given list is -  999\n"
     ]
    }
   ],
   "source": [
    "#Question 9\n",
    "l1 = [23,45,67,89,100,999]\n",
    "maximum_number = max([i for i in l1])\n",
    "print(\"Maximum number from given list is - \",maximum_number)"
   ]
  },
  {
   "cell_type": "code",
   "execution_count": 121,
   "id": "1efb96d4-6430-47f3-8ab5-5f4ccf4989bc",
   "metadata": {},
   "outputs": [
    {
     "name": "stdin",
     "output_type": "stream",
     "text": [
      "Enter the number till where you need a Fibonacci sequecne 5\n"
     ]
    },
    {
     "name": "stdout",
     "output_type": "stream",
     "text": [
      "0 : 0\n",
      "1 : 1\n",
      "2 : 1\n",
      "3 : 2\n",
      "4 : 3\n",
      "5 : 5\n"
     ]
    }
   ],
   "source": [
    "#Question 10\n",
    "n = int(input(\"Enter the number till where you need a Fibonacci sequecne\"))\n",
    "a = 0\n",
    "b = 1\n",
    "for i in range(0, n+1):\n",
    "    if i == 0:\n",
    "        print( i, \":\", 0)\n",
    "    if i == 1:\n",
    "        print( i, \":\", 1)\n",
    "    else:\n",
    "        if i > 1:\n",
    "            print(i, \":\", end = \" \")\n",
    "            c = a + b\n",
    "            a = b\n",
    "            b = c\n",
    "            print(c)"
   ]
  },
  {
   "cell_type": "code",
   "execution_count": 122,
   "id": "e9558455-633b-4d5f-8157-8af85d3ebae6",
   "metadata": {},
   "outputs": [
    {
     "name": "stdout",
     "output_type": "stream",
     "text": [
      "Number of vowels in given strong are -  12\n"
     ]
    }
   ],
   "source": [
    "# Question 11\n",
    "str1 = \"Python is a beautiful language\"\n",
    "str2 = str1.lower()\n",
    "a = 0\n",
    "[a:= a + 1  for i in str2  if i == 'a' or i == 'e' or i == 'i' or i == 'o' or i == 'u']\n",
    "print(\"Number of vowels in given strong are - \",a)"
   ]
  },
  {
   "cell_type": "code",
   "execution_count": 123,
   "id": "94a30102-b905-47e6-b74f-a4af89e63376",
   "metadata": {},
   "outputs": [
    {
     "name": "stdin",
     "output_type": "stream",
     "text": [
      "Enter the number 6\n"
     ]
    },
    {
     "name": "stdout",
     "output_type": "stream",
     "text": [
      "6 * 1 = 6\n",
      "6 * 2 = 12\n",
      "6 * 3 = 18\n",
      "6 * 4 = 24\n",
      "6 * 5 = 30\n",
      "6 * 6 = 36\n",
      "6 * 7 = 42\n",
      "6 * 8 = 48\n",
      "6 * 9 = 54\n",
      "6 * 10 = 60\n"
     ]
    }
   ],
   "source": [
    "# Question 12\n",
    "num = int(input(\"Enter the number\"))\n",
    "for i in range(1, 11):\n",
    "    print( num,\"*\",i,\"=\",num * i)"
   ]
  },
  {
   "cell_type": "code",
   "execution_count": 124,
   "id": "9af07412-5c03-401b-ac9c-6b56c0600534",
   "metadata": {},
   "outputs": [
    {
     "name": "stdout",
     "output_type": "stream",
     "text": [
      "Reverse of list is  [10, 9, 8, 7, 6, 5, 4, 3, 2, 1]\n"
     ]
    }
   ],
   "source": [
    "# Question 13\n",
    "l1 = [1,2,3,4,5,6,7,8,9,10]\n",
    "b = [i for i in l1[::-1]]\n",
    "print(\"Reverse of list is \" , b)"
   ]
  },
  {
   "cell_type": "code",
   "execution_count": 125,
   "id": "4b397796-537f-4fbd-a41b-4e00b3752cdc",
   "metadata": {},
   "outputs": [
    {
     "name": "stdout",
     "output_type": "stream",
     "text": [
      "Common elements in the list are [1, 2, 3, 4, 7, 10]\n"
     ]
    }
   ],
   "source": [
    "# Question 14\n",
    "l1 = [1,2,3,4,5,6,7,8,9,10]\n",
    "l2 = [1,2,3,4,7,10]\n",
    "a = [i for i in l1 for j in l2 if i==j]\n",
    "print(\"Common elements in the list are\", a)"
   ]
  },
  {
   "cell_type": "code",
   "execution_count": 132,
   "id": "ad16471e-3a7a-4c14-a0b8-b24cf713e6c7",
   "metadata": {},
   "outputs": [
    {
     "name": "stdout",
     "output_type": "stream",
     "text": [
      " name : Chetan\n",
      " Age : 33\n",
      " Subject : {'Maths', 'Hindi', 'English'}\n"
     ]
    }
   ],
   "source": [
    "#Question 15\n",
    "dict1 = {\"name\" : \"Chetan\", \"Age\" : 33 , \"Subject\" : {\"Hindi\", \"English\", \"Maths\"}}\n",
    "for key,value in dict1.items():\n",
    "    print(f\" {key} : {value}\")"
   ]
  },
  {
   "cell_type": "code",
   "execution_count": 133,
   "id": "1a0f4f13-c3b2-4608-9f06-c81c44df2990",
   "metadata": {},
   "outputs": [
    {
     "name": "stdout",
     "output_type": "stream",
     "text": [
      "TWO POSITIVE INTEGER NUMBERS::\n"
     ]
    },
    {
     "name": "stdin",
     "output_type": "stream",
     "text": [
      " 36\n",
      " 78\n"
     ]
    },
    {
     "name": "stdout",
     "output_type": "stream",
     "text": [
      "The computed GCD of 36 and 78 is 6\n"
     ]
    }
   ],
   "source": [
    "#Question 16\n",
    "print (\"TWO POSITIVE INTEGER NUMBERS::\")\n",
    "x = int(input())\n",
    "y = int(input())\n",
    "\n",
    "n = min(x,y)\n",
    "\n",
    "# It will calculate the GCD\n",
    "for i in range (1, n + 1):\n",
    "        if x % i == 0 and y % i == 0:\n",
    "            gcd = i\n",
    "print (f\"The computed GCD of {x} and {y} is {gcd}\")"
   ]
  },
  {
   "cell_type": "code",
   "execution_count": 137,
   "id": "37c23fdc-c6f5-401d-ab46-de8da836129b",
   "metadata": {},
   "outputs": [
    {
     "name": "stdin",
     "output_type": "stream",
     "text": [
      "Enter the string -  Civic\n"
     ]
    },
    {
     "name": "stdout",
     "output_type": "stream",
     "text": [
      "Palindrome\n"
     ]
    }
   ],
   "source": [
    "# Question 17\n",
    "str11 = input('Enter the string - ')\n",
    "str12 = str11.lower()\n",
    "k = 0\n",
    "for i in str12:\n",
    "    pass\n",
    "\n",
    "for j in str12[: :-1]:\n",
    "    pass\n",
    "    \n",
    "if i != j:\n",
    "    \n",
    "    k += 1\n",
    "\n",
    "if k >= 1:\n",
    "    print(\"Not Palindrome\")\n",
    "else:\n",
    "    print(\"Palindrome\")"
   ]
  },
  {
   "cell_type": "code",
   "execution_count": 139,
   "id": "7ec09094-5992-40e9-bfbe-a0cbc0d71c74",
   "metadata": {},
   "outputs": [
    {
     "name": "stdout",
     "output_type": "stream",
     "text": [
      "[1, 2, 3, 4, 5, 6, 8, 9]\n"
     ]
    }
   ],
   "source": [
    "# Question 18\n",
    "list11 = [1,2,3,4,5,6,6,8,9,9]\n",
    "list12 = []\n",
    "[list12.append(i) for i in list11 if i not in list12]\n",
    "print(list12)"
   ]
  },
  {
   "cell_type": "code",
   "execution_count": 140,
   "id": "b8c7004e-cc10-4e2a-9b9e-262b16a011d0",
   "metadata": {},
   "outputs": [
    {
     "name": "stdin",
     "output_type": "stream",
     "text": [
      "Enter string: I love Python Language\n"
     ]
    },
    {
     "name": "stdout",
     "output_type": "stream",
     "text": [
      "Number of words in the string:\n",
      "4\n",
      "Number of characters in the string:\n",
      "22\n"
     ]
    }
   ],
   "source": [
    "#Question 19\n",
    "string = input(\"Enter string:\")\n",
    "char=0\n",
    "word=1\n",
    "for i in string:\n",
    "    char=char+1\n",
    "    if(i==' '):\n",
    "        word=word+1\n",
    "print(\"Number of words in the string:\")\n",
    "print(word)\n",
    "print(\"Number of characters in the string:\")\n",
    "print(char)"
   ]
  },
  {
   "cell_type": "code",
   "execution_count": 143,
   "id": "3783184d-b9af-4c23-bd6c-fd984ca85639",
   "metadata": {},
   "outputs": [
    {
     "name": "stdout",
     "output_type": "stream",
     "text": [
      "Sum of all the numbers -  625\n"
     ]
    }
   ],
   "source": [
    "# Question 20\n",
    "a = sum([ i for i in range(1,51) if i%2 != 0])\n",
    "print(\"Sum of all the numbers - \",a)"
   ]
  },
  {
   "cell_type": "code",
   "execution_count": 76,
   "id": "43f6062e-c1c6-4d93-a625-cc9309aeda06",
   "metadata": {},
   "outputs": [
    {
     "name": "stdin",
     "output_type": "stream",
     "text": [
      "Enter the year 1900\n"
     ]
    },
    {
     "name": "stdout",
     "output_type": "stream",
     "text": [
      "Given year is not Leap\n"
     ]
    }
   ],
   "source": [
    "# Question 21\n",
    "year = input(\"Enter the year\")\n",
    "year1 = year.split()\n",
    "\n",
    "for i in (year1):\n",
    "    if int(i)%4 == 0 and  int(i) % 100 != 0 or  int(i) % 400 == 0:\n",
    "        print(\"Given year is Leap\")\n",
    "    else:\n",
    "        print(\"Given year is not Leap\")"
   ]
  },
  {
   "cell_type": "code",
   "execution_count": 147,
   "id": "ed36c1fd-d819-4d3b-85fe-d4a872f03447",
   "metadata": {},
   "outputs": [
    {
     "name": "stdin",
     "output_type": "stream",
     "text": [
      "number 1\n"
     ]
    },
    {
     "name": "stdout",
     "output_type": "stream",
     "text": [
      "square of 1 is 1.0\n"
     ]
    }
   ],
   "source": [
    "#Question 22\n",
    "num123 = input(\"number\")\n",
    "num1234 = num123.split()\n",
    "\n",
    "for i in (num1234):\n",
    "    x = int(i)\n",
    "    y = x\n",
    "    z = (y + (x/y)) / 2\n",
    "    \n",
    "while abs(y - z) >= 0.00001:\n",
    "    y = z\n",
    "    z = (y + (x/y)) / 2\n",
    "print(f\"square of {num123} is {round(z,4)}\")"
   ]
  },
  {
   "cell_type": "code",
   "execution_count": 1,
   "id": "652eace6-37a8-4034-a8e5-328f23d27eb3",
   "metadata": {},
   "outputs": [
    {
     "name": "stdout",
     "output_type": "stream",
     "text": [
      "TWO POSITIVE INTEGER NUMBERS::\n"
     ]
    },
    {
     "name": "stdin",
     "output_type": "stream",
     "text": [
      " 34\n",
      " 67\n"
     ]
    },
    {
     "name": "stdout",
     "output_type": "stream",
     "text": [
      "The computed LCM of 34 and 67 is 1\n"
     ]
    }
   ],
   "source": [
    "#Question 23\n",
    "print (\"TWO POSITIVE INTEGER NUMBERS::\")\n",
    "x = int(input())\n",
    "y = int(input())\n",
    "\n",
    "n = min(x,y)\n",
    "\n",
    "# It will calculate the LCM\n",
    "for i in range (1, n + 1):\n",
    "        if x % i == 0 and y % i == 0:\n",
    "            break\n",
    "            \n",
    "print (f\"The computed LCM of {x} and {y} is {i}\")"
   ]
  },
  {
   "cell_type": "code",
   "execution_count": 15,
   "id": "598f2084-8868-4de4-9446-af2d86fa9a39",
   "metadata": {},
   "outputs": [
    {
     "name": "stdin",
     "output_type": "stream",
     "text": [
      "Enter the number -45\n"
     ]
    },
    {
     "name": "stdout",
     "output_type": "stream",
     "text": [
      "The number is negative\n"
     ]
    }
   ],
   "source": [
    "# If else statement\n",
    "# Question 1\n",
    "a = int(input(\"Enter the number\"))\n",
    "if  a == 0:\n",
    "        print(\"Entered number is Zero\")\n",
    "elif a > 0:\n",
    "    print(\"The number is positive\")\n",
    "else:\n",
    "    print(\"The number is negative\")"
   ]
  },
  {
   "cell_type": "code",
   "execution_count": 2,
   "id": "ff3361ce-b9e0-441c-8307-76abe0995bf2",
   "metadata": {},
   "outputs": [
    {
     "name": "stdin",
     "output_type": "stream",
     "text": [
      "Enter the number 7\n"
     ]
    },
    {
     "name": "stdout",
     "output_type": "stream",
     "text": [
      "7 is odd\n"
     ]
    }
   ],
   "source": [
    "#Question 2\n",
    "a = int(input(\"Enter the number\"))\n",
    "if a == 0:\n",
    "    print(\"{} is even number\".format(a))\n",
    "\n",
    "elif  a%2 == 0:\n",
    "    print(\"{} is even\".format(a))\n",
    "else:\n",
    "    print(\"{} is odd\".format(a))"
   ]
  },
  {
   "cell_type": "code",
   "execution_count": 52,
   "id": "a10ef931-7200-4c9b-a820-2a8bab44ea5b",
   "metadata": {},
   "outputs": [
    {
     "name": "stdin",
     "output_type": "stream",
     "text": [
      "Enter the side of traingle 23\n",
      "Enter the side of traingle 23\n",
      "Enter the side of traingle 13\n"
     ]
    },
    {
     "name": "stdout",
     "output_type": "stream",
     "text": [
      "The given traingle is Isoceles\n"
     ]
    }
   ],
   "source": [
    "#Question 3\n",
    "x = int(input(\"Enter the side of traingle\"))\n",
    "y = int(input(\"Enter the side of traingle\"))\n",
    "z = int(input(\"Enter the side of traingle\"))\n",
    "\n",
    "if (x<0) or (y<0) or (z<0):\n",
    "    print(\"Wrong entry - Enter positive numbers\")\n",
    "else:\n",
    "    if  (x == y == z):\n",
    "        print(\"The given traingle is Equilateral\")\n",
    "    else:\n",
    "        if (x == y) or (y == z) or (z == x):\n",
    "            print(\"The given traingle is Isoceles\")\n",
    "        else:\n",
    "            print(\"The given traingle is Scalene\")"
   ]
  },
  {
   "cell_type": "code",
   "execution_count": 4,
   "id": "a47e5595-7fef-4432-91b5-56feb771d162",
   "metadata": {},
   "outputs": [
    {
     "name": "stdin",
     "output_type": "stream",
     "text": [
      "Enter the number 45\n",
      "Enter the number 67\n",
      "Enter the number 58\n"
     ]
    },
    {
     "name": "stdout",
     "output_type": "stream",
     "text": [
      "67 is largest\n"
     ]
    }
   ],
   "source": [
    "#Question 4\n",
    "num1 = int(input(\"Enter the number\"))\n",
    "num2 = int(input(\"Enter the number\"))\n",
    "num3 = int(input(\"Enter the number\"))\n",
    "if  (num1 > num2 and num1 > num3):\n",
    "     print(\"{0} is largest\".format(num1))\n",
    "elif (num2 > num1 and num2 > num3):\n",
    "     print(\"{0} is largest\".format(num2))\n",
    "else:\n",
    "    print(\"{0} is largest\".format(num3))"
   ]
  },
  {
   "cell_type": "code",
   "execution_count": 6,
   "id": "b082cf57-438a-4739-a355-1504fd8a7e07",
   "metadata": {},
   "outputs": [
    {
     "name": "stdin",
     "output_type": "stream",
     "text": [
      "Enter the number -6\n"
     ]
    },
    {
     "name": "stdout",
     "output_type": "stream",
     "text": [
      "The absolute value of a is : 6\n"
     ]
    }
   ],
   "source": [
    "# Question 5\n",
    "a = int(input(\"Enter the number\"))\n",
    "if  a < 0:\n",
    "        print(\"The absolute value of a is :\", a*-1)\n",
    "else:\n",
    "        print(\"The absolute value of a is : \", a)"
   ]
  },
  {
   "cell_type": "code",
   "execution_count": 7,
   "id": "575d1352-24a4-47d0-a039-a577e3fae28d",
   "metadata": {},
   "outputs": [
    {
     "name": "stdin",
     "output_type": "stream",
     "text": [
      "Enter the character t\n"
     ]
    },
    {
     "name": "stdout",
     "output_type": "stream",
     "text": [
      "t is consonant\n"
     ]
    }
   ],
   "source": [
    "# Question 6\n",
    "str1 = input(\"Enter the character\")\n",
    "str2 = str1.lower()\n",
    "if (str2 == 'a') or (str2 == 'e') or (str2 == 'i') or (str2 == 'o') or (str2 == 'u'):\n",
    "    print(\"{0} is vowel\".format(str1))\n",
    "else:\n",
    "    print(\"{0} is consonant\".format(str1))     "
   ]
  },
  {
   "cell_type": "code",
   "execution_count": 8,
   "id": "106e15fb-7ba9-4a42-a01d-34ed00768573",
   "metadata": {},
   "outputs": [
    {
     "name": "stdin",
     "output_type": "stream",
     "text": [
      "Enter the age 45\n"
     ]
    },
    {
     "name": "stdout",
     "output_type": "stream",
     "text": [
      "You are eligible to vote\n"
     ]
    }
   ],
   "source": [
    "# Question 7\n",
    "a = int(input(\"Enter the age\"))\n",
    "if  a >= 18:\n",
    "        print(\"You are eligible to vote\")\n",
    "else:\n",
    "        print(\"you are not eligible to vote\")"
   ]
  },
  {
   "cell_type": "code",
   "execution_count": 9,
   "id": "d269a44b-c0aa-4cd5-907d-b6c754b1b249",
   "metadata": {},
   "outputs": [
    {
     "name": "stdin",
     "output_type": "stream",
     "text": [
      "Enter the purchase amount between 1 to 100 -  89\n"
     ]
    },
    {
     "name": "stdout",
     "output_type": "stream",
     "text": [
      "You gained 20% discount. Total amount to pay -  71\n"
     ]
    }
   ],
   "source": [
    "# Question 8\n",
    "a = int(input(\"Enter the purchase amount between 1 to 100 - \"))\n",
    "if  (a > 100) or (a <= 0):\n",
    "        print(\"Wrong entry. Enter purchase amount between 1 to 100\")\n",
    "elif a >= 80:\n",
    "        print(\"You gained 20% discount. Total amount to pay - \", round(a*.8))\n",
    "elif (a <= 79 and a >= 60):\n",
    "        print(\"You gained 30% discount. Total amount to pay - \", round(a*.7))\n",
    "elif (a < 59 and a >= 40):\n",
    "        print(\"You gained 50% discount. Total amount to pay - \", round(a*.5))\n",
    "else:\n",
    "    print(\"No Discount.Pay total price - \",a)"
   ]
  },
  {
   "cell_type": "code",
   "execution_count": 10,
   "id": "07388b35-9d72-43da-b93e-6b8c26fa9fcf",
   "metadata": {},
   "outputs": [
    {
     "name": "stdin",
     "output_type": "stream",
     "text": [
      "Enter the number between 0 to 10 0\n"
     ]
    },
    {
     "name": "stdout",
     "output_type": "stream",
     "text": [
      "0 - Number is not within range\n"
     ]
    }
   ],
   "source": [
    "# Question 9\n",
    "number = int(input(\"Enter the number between 0 to 10\"))\n",
    "if (number > 0 and number < 10):\n",
    "    print(f\"{number} - Number is within range\")\n",
    "else:\n",
    "    print(f\"{number} - Number is not within range\")"
   ]
  },
  {
   "cell_type": "code",
   "execution_count": 36,
   "id": "55e7d3f8-4815-4e2f-8393-6fc3c0b5aea0",
   "metadata": {},
   "outputs": [
    {
     "name": "stdin",
     "output_type": "stream",
     "text": [
      "Enter the score out of 100 -  45\n"
     ]
    },
    {
     "name": "stdout",
     "output_type": "stream",
     "text": [
      "Grade is C\n"
     ]
    }
   ],
   "source": [
    "#Question 10\n",
    "score = int(input(\"Enter the score out of 100 - \"))\n",
    "if  (score > 100) or (score < 0):\n",
    "        print(\"Wrong entry. Enter score between 0 to 100\")\n",
    "elif score >= 80:\n",
    "        print(\"Grade is A\")\n",
    "elif (score <= 79 and score >= 60):\n",
    "        print(\"Grade is B\")\n",
    "elif (score <= 59 and score >= 40):\n",
    "        print(\"Grade is C\")\n",
    "else:\n",
    "    print(\"Grade is D\")"
   ]
  },
  {
   "cell_type": "code",
   "execution_count": 11,
   "id": "709c5d99-8351-4350-9ec9-34afd2969b98",
   "metadata": {},
   "outputs": [
    {
     "name": "stdin",
     "output_type": "stream",
     "text": [
      "Enter the string \n"
     ]
    },
    {
     "name": "stdout",
     "output_type": "stream",
     "text": [
      "string is empty\n"
     ]
    }
   ],
   "source": [
    "# Question 11\n",
    "string = input(\"Enter the string\")\n",
    "if string == \"\":\n",
    "    print(\"string is empty\")\n",
    "else:\n",
    "    print(\"String is not empty\")"
   ]
  },
  {
   "cell_type": "code",
   "execution_count": 3,
   "id": "4bd351a4-aff4-438f-bd8c-74034bd980a4",
   "metadata": {},
   "outputs": [
    {
     "name": "stdin",
     "output_type": "stream",
     "text": [
      "Enter the side of traingle 12\n",
      "Enter the side of traingle 12\n",
      "Enter the side of traingle 34\n"
     ]
    },
    {
     "name": "stdout",
     "output_type": "stream",
     "text": [
      "The given traingle is Isoceles\n"
     ]
    }
   ],
   "source": [
    "## Question 12\n",
    "x = int(input(\"Enter the side of traingle\"))\n",
    "y = int(input(\"Enter the side of traingle\"))\n",
    "z = int(input(\"Enter the side of traingle\"))\n",
    "\n",
    "if (x<0) or (y<0) or (z<0):\n",
    "    print(\"Wrong entry - Enter positive numbers\")\n",
    "else:\n",
    "    if  (x == y == z):\n",
    "        print(\"The given traingle is Equilateral\")\n",
    "    else:\n",
    "        if (x == y) or (y == z) or (z == x):\n",
    "            print(\"The given traingle is Isoceles\")\n",
    "        else:\n",
    "            print(\"The given traingle is Scalene\")"
   ]
  },
  {
   "cell_type": "code",
   "execution_count": 1,
   "id": "d2a9b11a-80c3-4435-8ba6-6acac09d305b",
   "metadata": {},
   "outputs": [
    {
     "name": "stdin",
     "output_type": "stream",
     "text": [
      "Enter the Day number between 1 to 7 -  6\n"
     ]
    },
    {
     "name": "stdout",
     "output_type": "stream",
     "text": [
      "It is Sat\n"
     ]
    }
   ],
   "source": [
    "# Question 13\n",
    "Day = int(input(\"Enter the Day number between 1 to 7 - \"))\n",
    "if (Day > 7) or (Day <= 0):\n",
    "            print(\"Wrong Value . Enter value between 1 to 7\")\n",
    "\n",
    "elif Day == 1:\n",
    "        print(\"It is Mon\")\n",
    "elif Day == 2:\n",
    "        print(\"It is Tue\")\n",
    "elif Day == 3:\n",
    "        print(\"It is Wed\")\n",
    "elif Day == 4:\n",
    "        print(\"It is Thrusday\")\n",
    "elif Day == 5:\n",
    "        print(\"It is Fri\")\n",
    "elif Day == 6:\n",
    "        print(\"It is Sat\")\n",
    "else:\n",
    "        print(\"It is SUN\")"
   ]
  },
  {
   "cell_type": "code",
   "execution_count": 50,
   "id": "64588e4c-a9cb-4ae6-85ff-49861e2fb400",
   "metadata": {},
   "outputs": [
    {
     "name": "stdin",
     "output_type": "stream",
     "text": [
      "Enter the year 2044\n"
     ]
    },
    {
     "name": "stdout",
     "output_type": "stream",
     "text": [
      "2044 is a leap year\n"
     ]
    }
   ],
   "source": [
    "# Question 14\n",
    "def check_leap_year(year):\n",
    "    if (year % 400 == 0):\n",
    "        print(f\"{year} is leap year\")\n",
    "    else:\n",
    "        if (year % 100 == 0):\n",
    "            print(f\"{year} is not leap year\")\n",
    "        else:\n",
    "            if (year % 4 == 0):\n",
    "                print(f\"{year} is a leap year\")\n",
    "            else:\n",
    "                print(f\"{year} is not leap year\")\n",
    "year = int(input(\"Enter the year\"))\n",
    "check_leap_year(year)"
   ]
  },
  {
   "cell_type": "code",
   "execution_count": 58,
   "id": "91c8962f-6129-4286-9d2d-c33f798dd5de",
   "metadata": {},
   "outputs": [
    {
     "name": "stdout",
     "output_type": "stream",
     "text": [
      "Enter any two numbers which divides a by b \n"
     ]
    },
    {
     "name": "stdin",
     "output_type": "stream",
     "text": [
      "Enter the first number 4\n",
      "Ente the second number 0\n"
     ]
    },
    {
     "ename": "AssertionError",
     "evalue": "Zero division error",
     "output_type": "error",
     "traceback": [
      "\u001b[0;31m---------------------------------------------------------------------------\u001b[0m",
      "\u001b[0;31mAssertionError\u001b[0m                            Traceback (most recent call last)",
      "Cell \u001b[0;32mIn[58], line 9\u001b[0m\n\u001b[1;32m      7\u001b[0m     \u001b[38;5;28mprint\u001b[39m(a \u001b[38;5;241m/\u001b[39m b)\n\u001b[1;32m      8\u001b[0m \u001b[38;5;28;01melse\u001b[39;00m:\n\u001b[0;32m----> 9\u001b[0m     \u001b[38;5;28;01massert\u001b[39;00m b \u001b[38;5;241m!=\u001b[39m \u001b[38;5;241m0\u001b[39m, \u001b[38;5;124m\"\u001b[39m\u001b[38;5;124mZero division error\u001b[39m\u001b[38;5;124m\"\u001b[39m\n",
      "\u001b[0;31mAssertionError\u001b[0m: Zero division error"
     ]
    }
   ],
   "source": [
    "# Question 15\n",
    "print(\"Enter any two numbers which divides a by b \")\n",
    "a = int(input(\"Enter the first number\"))\n",
    "b = int(input(\"Ente the second number\"))\n",
    "\n",
    "if (a>=1) and (b>=1):\n",
    "    print(a / b)\n",
    "else:\n",
    "    assert b != 0, \"Zero division error\""
   ]
  },
  {
   "cell_type": "code",
   "execution_count": 4,
   "id": "49006816-f4f8-4ac3-ae3a-136aabd4fe6f",
   "metadata": {},
   "outputs": [
    {
     "name": "stdin",
     "output_type": "stream",
     "text": [
      "Enter the your age starting from 1 to 100 -  67\n"
     ]
    },
    {
     "name": "stdout",
     "output_type": "stream",
     "text": [
      "You are eligiable for 50% senior citizen discount\n"
     ]
    }
   ],
   "source": [
    "# Question 16\n",
    "a = int(input(\"Enter the your age starting from 1 to 100 - \"))\n",
    "if  (a < 1):\n",
    "        print(\"Wrong Entry\")\n",
    "elif a >= 60:\n",
    "        print(\"You are eligiable for 50% senior citizen discount\")\n",
    "else:\n",
    "    print(\"You dont qualify for discount\")"
   ]
  },
  {
   "cell_type": "code",
   "execution_count": 5,
   "id": "55570866-b42c-4fd5-abad-173f0aecb167",
   "metadata": {},
   "outputs": [
    {
     "name": "stdin",
     "output_type": "stream",
     "text": [
      "Enter the character y\n"
     ]
    },
    {
     "name": "stdout",
     "output_type": "stream",
     "text": [
      "The given character is lower case\n"
     ]
    }
   ],
   "source": [
    "# Question 17 \n",
    "string = input(\"Enter the character\")\n",
    "if string.islower() == True:\n",
    "    print(\"The given character is lower case\")\n",
    "elif string.isupper() == True:\n",
    "    print(\"The given character is upper case\")\n",
    "else:\n",
    "    print(\"The given character is number or special character\")"
   ]
  },
  {
   "cell_type": "code",
   "execution_count": 6,
   "id": "50cf2980-7091-42a0-9fb9-1eeb768fab02",
   "metadata": {},
   "outputs": [
    {
     "name": "stdout",
     "output_type": "stream",
     "text": [
      "Equation: ax^2 + bx + c \n"
     ]
    },
    {
     "name": "stdin",
     "output_type": "stream",
     "text": [
      "Enter a:  12\n",
      "Enter b:  34\n",
      "Enter c:  12\n"
     ]
    },
    {
     "name": "stdout",
     "output_type": "stream",
     "text": [
      "Roots are real and diffrent\n",
      "The first root:  -59.50086505449245\n",
      "The second root:  -348.49913494550754\n"
     ]
    }
   ],
   "source": [
    "# Question 18\n",
    "print(\"Equation: ax^2 + bx + c \")\n",
    "a=int(input(\"Enter a: \"))\n",
    "b=int(input(\"Enter b: \"))\n",
    "c=int(input(\"Enter c: \"))\n",
    "D=b**2-4*a*c\n",
    "D1=D**0.5\n",
    "if (D>0):\n",
    "    print(\"Roots are real and diffrent\")\n",
    "    r1=(-b+D1)/2*a\n",
    "    r2=(-b-D1)/2*a\n",
    "elif D == 0:\n",
    "    print(\"Roots are real and eual\")\n",
    "    r1=(-b)/2*a\n",
    "    r2=(-b)/2*a\n",
    "else:\n",
    "    print(\"Complex roots\")\n",
    "    r1 = complex(-b + (b ** 2 - (4 * a * c))**0.5) / 2 * a\n",
    "    r2 = complex(-b - (b ** 2 - (4 * a * c))**0.5) / 2 * a\n",
    "    \n",
    "print(\"The first root: \",(r1))\n",
    "print(\"The second root: \",(r2))"
   ]
  },
  {
   "cell_type": "code",
   "execution_count": 80,
   "id": "c0d0b6fa-5c78-4e5c-9b19-7ba322ec3030",
   "metadata": {},
   "outputs": [
    {
     "name": "stdin",
     "output_type": "stream",
     "text": [
      "Enter the year 1900\n"
     ]
    },
    {
     "name": "stdout",
     "output_type": "stream",
     "text": [
      "Given 1900 is a not century year\n"
     ]
    }
   ],
   "source": [
    "# Question 19\n",
    "year = int(input(\"Enter the year\"))\n",
    "if year%4 == 0:\n",
    "    print(f\"Given {year} is a not century year\")\n",
    "else:\n",
    "    print(f\"Given {year} is a century year\")"
   ]
  },
  {
   "cell_type": "code",
   "execution_count": 17,
   "id": "eb6a7b49-8a1e-4692-b375-a31adaded69f",
   "metadata": {},
   "outputs": [
    {
     "name": "stdin",
     "output_type": "stream",
     "text": [
      "Enter the number 1089\n"
     ]
    },
    {
     "name": "stdout",
     "output_type": "stream",
     "text": [
      "33\n",
      "Square number\n"
     ]
    }
   ],
   "source": [
    "# Question 20\n",
    "square_number = int(input(\"Enter the number\"))\n",
    "k = 0\n",
    "for i in range(2,square_number):\n",
    "    if (square_number % i == 0) and (square_number == i * i):\n",
    "        print(i)\n",
    "        k = k + 1\n",
    "        break\n",
    "if k == 1:\n",
    "    print('Square number')\n",
    "else:\n",
    "    print('Not square')"
   ]
  },
  {
   "cell_type": "code",
   "execution_count": 95,
   "id": "d8fc53ff-7bf4-403d-9183-b7f11da7cea7",
   "metadata": {},
   "outputs": [
    {
     "data": {
      "text/plain": [
       "'Continue is also a loop control statement just like the break statement. \\ncontinue statement is opposite to that of the break statement, instead of terminating the loop, it forces to execute the next iteration of the loop. \\nAs the name suggests the continue statement forces the loop to continue or execute the next iteration. \\nWhen the continue statement is executed in the loop, the code inside the loop following the continue statement will be skipped and the next iteration of the loop will begin.\\n'"
      ]
     },
     "execution_count": 95,
     "metadata": {},
     "output_type": "execute_result"
    }
   ],
   "source": [
    "# Question 21\n",
    "# Break\n",
    "\"\"\"The break statement in Python is used to terminate the loop or statement in which it is present. After that, the control will pass to the statements that are present after the break statement, if available. \n",
    "If the break statement is present in the nested loop, then it terminates only those loops which contain the break statement\"\"\"\n",
    "\n",
    "# Continue\n",
    "\"\"\"Continue is also a loop control statement just like the break statement. \n",
    "continue statement is opposite to that of the break statement, instead of terminating the loop, it forces to execute the next iteration of the loop. \n",
    "As the name suggests the continue statement forces the loop to continue or execute the next iteration. \n",
    "When the continue statement is executed in the loop, the code inside the loop following the continue statement will be skipped and the next iteration of the loop will begin.\n",
    "\"\"\""
   ]
  },
  {
   "cell_type": "code",
   "execution_count": 18,
   "id": "0663f45a-e127-4395-aa8f-996f378128e8",
   "metadata": {},
   "outputs": [
    {
     "name": "stdin",
     "output_type": "stream",
     "text": [
      "Enter your height in meters 156\n",
      "Enter your weight in Kilograms 45\n"
     ]
    },
    {
     "name": "stdout",
     "output_type": "stream",
     "text": [
      "Your BMI is 0.077\n"
     ]
    }
   ],
   "source": [
    "# Question 22\n",
    "height = int(input(\"Enter your height in meters\"))\n",
    "weight = int(input(\"Enter your weight in Kilograms\"))\n",
    "  \n",
    "if (height > 0) and (weight > 1):\n",
    "    BMI = round(height/(weight*weight),3)\n",
    "                \n",
    "else:\n",
    "    height != 0 or weight != 0, \"Zero division error\"\n",
    "print(\"Your BMI is\", BMI)"
   ]
  },
  {
   "cell_type": "code",
   "execution_count": 106,
   "id": "4ecea572-bc49-4104-ab84-63157f01e0c2",
   "metadata": {},
   "outputs": [
    {
     "name": "stdout",
     "output_type": "stream",
     "text": [
      "Example of filteres list using function filter [2, 4, 6, 8, 10]\n"
     ]
    }
   ],
   "source": [
    "# Question 23\n",
    "l = [1,2,3,4,5,6,7,8,9,10]\n",
    "if len(l) == 0:\n",
    "    print(\"List has no elements\")\n",
    "else:\n",
    "    a = list(filter(lambda a : a, [i for i in l if i%2 == 0]))\n",
    "    print(\"Example of filteres list using function filter\", a)"
   ]
  },
  {
   "cell_type": "code",
   "execution_count": 110,
   "id": "7c7925d1-a717-4c7c-bcf8-dfa70a1ed2be",
   "metadata": {},
   "outputs": [
    {
     "name": "stdin",
     "output_type": "stream",
     "text": [
      "Enter the number 13\n"
     ]
    },
    {
     "name": "stdout",
     "output_type": "stream",
     "text": [
      "Number is prime\n"
     ]
    }
   ],
   "source": [
    "# Question 24\n",
    "number_prime = int(input('Enter the number'))\n",
    "k = 0\n",
    "for i in range(2,number_prime -1):\n",
    "    if number_prime % i == 0:\n",
    "        k = k + 1\n",
    "        break\n",
    "if k == 1:\n",
    "    print(\"Number is not prime\")\n",
    "else:\n",
    "    print(\"Number is prime\") "
   ]
  },
  {
   "cell_type": "code",
   "execution_count": 19,
   "id": "a9b4c8b9-df8c-40af-bc9b-f8333ce01f39",
   "metadata": {},
   "outputs": [
    {
     "name": "stdout",
     "output_type": "stream",
     "text": [
      "List after addition [3, 4, 5, 6, 7]\n"
     ]
    }
   ],
   "source": [
    "# Map Assignment\n",
    "#Question 1\n",
    "# Map function is used when you want to perform similar kind of operation on each element in the given list/tuple/srings/dict\n",
    "l = [1,2,3,4,5]\n",
    "c = list(map(lambda a : a+2, l)) # In this addition operation is performed over all elements in given list\n",
    "print(\"List after addition\",c)"
   ]
  },
  {
   "cell_type": "code",
   "execution_count": 12,
   "id": "06cd5fc7-b3b8-4d2f-aa7c-0983a1a2a468",
   "metadata": {},
   "outputs": [
    {
     "name": "stdout",
     "output_type": "stream",
     "text": [
      "Square of list is given by  [9, 16, 25, 36, 49]\n"
     ]
    }
   ],
   "source": [
    "# Question 2\n",
    "l15 = [ 3,4,5,6,7]\n",
    "def square(c):\n",
    "    return c*c\n",
    "c = list(map(square,l15))\n",
    "print(\"Square of list is given by \", c)"
   ]
  },
  {
   "cell_type": "code",
   "execution_count": null,
   "id": "fc742826-a965-43fa-9ebd-9784342cc655",
   "metadata": {},
   "outputs": [],
   "source": [
    "#Question 3\n",
    "\"\"\"\n",
    "Map VS List Comprehension\n",
    "List comprehension is more concise and easier to read as compared to map.\n",
    "List comprehension allows filtering. In map, we have no such facility. \n",
    "For example, to print all odd numbers in range of 100, we can write [n for n in range(100) if n%2 == 0]. There is no alternate for it in map\n",
    "List comprehension are used when a list of results is required, as map only returns a map object and does not return any list.\n",
    "List comprehension is faster than map when we need to evaluate expressions that are too long or complicated to express\n",
    "Map is faster in case of calling an already defined function (as no lambda is required).\n",
    "\"\"\""
   ]
  },
  {
   "cell_type": "code",
   "execution_count": 72,
   "id": "745719dc-cade-4eb6-bbf4-733508e1fbf4",
   "metadata": {},
   "outputs": [
    {
     "name": "stdout",
     "output_type": "stream",
     "text": [
      "In upper case ['CHETAN', 'PYTHON', 'DATASCIENCE']\n"
     ]
    }
   ],
   "source": [
    "#Question 4\n",
    "names = [\"chetan\",\"python\",\"datascience\"]\n",
    "names1 = list(map(str.upper,names))\n",
    "print(\"In upper case\", names1)"
   ]
  },
  {
   "cell_type": "code",
   "execution_count": 91,
   "id": "0467e9b1-bbd4-4804-8488-f9dfa2cc249c",
   "metadata": {},
   "outputs": [
    {
     "name": "stdout",
     "output_type": "stream",
     "text": [
      "Lenght of each word in given list [6, 6, 11]\n"
     ]
    }
   ],
   "source": [
    "#Question 5\n",
    "length = [\"chetan\",\"python\",\"datascience\"]\n",
    "lenghth1 = list(map(len,length))\n",
    "print(\"Lenght of each word in given list\",lenghth1)"
   ]
  },
  {
   "cell_type": "code",
   "execution_count": 20,
   "id": "62a37294-13d9-426e-b1da-1ce74dff552e",
   "metadata": {},
   "outputs": [
    {
     "name": "stdout",
     "output_type": "stream",
     "text": [
      "Result after applying addition function to multiple list simultaneously [8, 10, 12, 57, 19]\n"
     ]
    }
   ],
   "source": [
    "#Question 6\n",
    "l1 = [1,2,3,45,6]\n",
    "l2 = [7,8,9,12,13]\n",
    "c = list(map(lambda a, b: a + b, l1,l2))\n",
    "print(\"Result after applying addition function to multiple list simultaneously\",c)"
   ]
  },
  {
   "cell_type": "code",
   "execution_count": 21,
   "id": "6af1f7ec-bbef-46d8-ab0c-d5a805092f1e",
   "metadata": {},
   "outputs": [
    {
     "name": "stdout",
     "output_type": "stream",
     "text": [
      "In fahrenheit [53.6, 75.2, 57.2]\n"
     ]
    }
   ],
   "source": [
    "#Question 7\n",
    "listc = [12,24,14]\n",
    "listf = list(map(lambda a : (a*1.8)+32, listc))\n",
    "print(\"In fahrenheit\", listf)"
   ]
  },
  {
   "cell_type": "code",
   "execution_count": 107,
   "id": "1e81f8c7-9aa4-4dbe-89f5-0ff93c4f2f19",
   "metadata": {},
   "outputs": [
    {
     "name": "stdout",
     "output_type": "stream",
     "text": [
      "Numbers after rounding [12, 14, 147]\n"
     ]
    }
   ],
   "source": [
    "#Question 8\n",
    "list100 = [12.345,13.5667, 146.778]\n",
    "c100 = list(map(round, list100))\n",
    "print(\"Numbers after rounding\", c100)"
   ]
  },
  {
   "cell_type": "code",
   "execution_count": 23,
   "id": "ceddf703-eb82-4233-88fd-51fd759ffe59",
   "metadata": {},
   "outputs": [
    {
     "name": "stdout",
     "output_type": "stream",
     "text": [
      "sum of even numbers 30\n"
     ]
    }
   ],
   "source": [
    "#Reduce\n",
    "# Question 1\n",
    "\"\"\" Reduce function is used when you need to apply a function to an iterable and reduce it to a single cumulative value\"\"\"\n",
    "from functools import reduce\n",
    "l31 = [1,2,3,4,5,6,7,8,9,10]\n",
    "c = reduce(lambda a,b : a + b, [i for i in l31 if i%2==0])\n",
    "print(\"sum of even numbers\",c)"
   ]
  },
  {
   "cell_type": "code",
   "execution_count": 124,
   "id": "a241a328-ef8d-471d-bfa6-ae4947d9c769",
   "metadata": {},
   "outputs": [
    {
     "name": "stdout",
     "output_type": "stream",
     "text": [
      "product of elements in list -  24583\n"
     ]
    }
   ],
   "source": [
    "#Question 2\n",
    "from functools import reduce\n",
    "list100 = [12.345,13.5667, 146.778]\n",
    "print(\"product of elements in list - \",round(reduce(lambda a , b: a*b, list100)))"
   ]
  },
  {
   "cell_type": "code",
   "execution_count": 121,
   "id": "ecf5e238-7fa7-4d9d-b66e-28b008fe8046",
   "metadata": {},
   "outputs": [
    {
     "name": "stdout",
     "output_type": "stream",
     "text": [
      "Maximun of elements in list -  567\n"
     ]
    }
   ],
   "source": [
    "#Question 3\n",
    "list102 = [12,34,567,78,97]\n",
    "print(\"Maximun of elements in list - \", reduce(lambda a, b : max(a,b),list102))"
   ]
  },
  {
   "cell_type": "code",
   "execution_count": 145,
   "id": "6eba084c-2de1-450a-9a65-29c9b4de0964",
   "metadata": {},
   "outputs": [
    {
     "name": "stdout",
     "output_type": "stream",
     "text": [
      "String after concatenation -  Chetanpyth\n"
     ]
    }
   ],
   "source": [
    "#Question 4\n",
    "list123 = [\"Chetan\", \"pyth\"]\n",
    "print(\"String after concatenation - \",reduce(lambda a,b : a+b, list123))"
   ]
  },
  {
   "cell_type": "code",
   "execution_count": 185,
   "id": "4c063082-f9da-4bfc-a4af-472b33dd45fd",
   "metadata": {},
   "outputs": [
    {
     "name": "stdin",
     "output_type": "stream",
     "text": [
      "Enter the number to find factorial 6\n"
     ]
    },
    {
     "name": "stdout",
     "output_type": "stream",
     "text": [
      "Factorial of number 720\n"
     ]
    }
   ],
   "source": [
    "#Question 5\n",
    "numf = int(input(\"Enter the number to find factorial\"))\n",
    "if numf == 0  or numf == 1:\n",
    "    print(f\"Factorial of {numf}\")\n",
    "if numf > 1:\n",
    "    print(\"Factorial of number\",reduce(lambda a,b : a*b, [i for i in range(1,numf+1)]))"
   ]
  },
  {
   "cell_type": "code",
   "execution_count": 29,
   "id": "618b119d-dd63-45bb-adb9-8b2c5989fd01",
   "metadata": {},
   "outputs": [
    {
     "name": "stdin",
     "output_type": "stream",
     "text": [
      "Insert space separated numbers:  12 15 30\n"
     ]
    },
    {
     "name": "stdout",
     "output_type": "stream",
     "text": [
      "GCD of given numbers is 3\n"
     ]
    }
   ],
   "source": [
    "#Question 6 \n",
    "from functools import reduce\n",
    "def gcd1(a, b):\n",
    "    if not b:\n",
    "        return a\n",
    "    else:\n",
    "        return gcd1(b, a % b)\n",
    "\n",
    "user_input = input(\"Insert space separated numbers: \")\n",
    "numbers = [int(n) for n in user_input.split()]\n",
    "GCD = reduce(lambda x, y : gcd1(x, y), numbers)\n",
    "print(\"GCD of given numbers is\", GCD)"
   ]
  },
  {
   "cell_type": "code",
   "execution_count": 4,
   "id": "7b95ce6d-aae1-4506-a5b8-56225a71d557",
   "metadata": {},
   "outputs": [
    {
     "name": "stdin",
     "output_type": "stream",
     "text": [
      "Enter the number 45\n"
     ]
    },
    {
     "name": "stdout",
     "output_type": "stream",
     "text": [
      "Sum of digits of given number is -  9\n"
     ]
    }
   ],
   "source": [
    "#Question 7\n",
    "from functools import reduce\n",
    "num = int(input(\"Enter the number\"))\n",
    "print(\"Sum of digits of given number is - \", reduce(lambda x, y : x + y, [ int(i) for i in str(num)]))"
   ]
  },
  {
   "cell_type": "code",
   "execution_count": 1,
   "id": "cf4879f2-577d-4cfd-b2a2-68ddc7e005ed",
   "metadata": {},
   "outputs": [
    {
     "name": "stdout",
     "output_type": "stream",
     "text": [
      "List with even numbers [2, 4, 6, 8]\n"
     ]
    }
   ],
   "source": [
    "# Filter Assignment\n",
    "# Question 1\n",
    "\"\"\"filter() funtion is used when we need to filter the elements from iterable\"\"\"\n",
    "listf = [1,2,3,4,5,6,7,8,9]\n",
    "even_list = list(filter(lambda a : a, [ i for i in listf if i%2==0]))\n",
    "print(\"List with even numbers\", even_list) "
   ]
  },
  {
   "cell_type": "code",
   "execution_count": 15,
   "id": "79bcfacd-91e2-48f6-afa0-8d0ee6e58436",
   "metadata": {},
   "outputs": [
    {
     "name": "stdout",
     "output_type": "stream",
     "text": [
      "List with even numbers [2, 4, 6, 8]\n"
     ]
    }
   ],
   "source": [
    "# Question 2\n",
    "listf = [1,2,3,4,5,6,7,8,9]\n",
    "even_list = list(filter(lambda a : a, [ i for i in listf if i%2==0]))\n",
    "print(\"List with even numbers\", even_list)"
   ]
  },
  {
   "cell_type": "code",
   "execution_count": 2,
   "id": "a279a08a-6c8b-4c11-90a2-a2bd75b8b22f",
   "metadata": {},
   "outputs": [
    {
     "name": "stdout",
     "output_type": "stream",
     "text": [
      "List starting with letter 'J' or 'j' -  ['java', 'jolt', 'Jail']\n"
     ]
    }
   ],
   "source": [
    "#Question 3\n",
    "lists = [\"Python\" ,\"Ruby\", \"java\", \"jolt\", \"parrot\", \"Jail\"]\n",
    "listj = list(filter(lambda a : a , [ i for i in lists if i[0] == 'j' or i[0] == \"J\"]))\n",
    "print(\"List starting with letter 'J' or 'j' - \" , listj)"
   ]
  },
  {
   "cell_type": "code",
   "execution_count": 20,
   "id": "ced284da-2ce2-473c-9c07-20f78f5c6b89",
   "metadata": {},
   "outputs": [
    {
     "name": "stdout",
     "output_type": "stream",
     "text": [
      "List with prime numbers [1, 2, 3, 5, 79]\n"
     ]
    }
   ],
   "source": [
    "# Question 4\n",
    "\n",
    "l = [1,2,3,4,5,66,79,81,555,123]  \n",
    "\n",
    "c = list(filter(lambda x : x, [x for x in l if all (x % y != 0 for y in range(2,x))]))\n",
    "print(\"List with prime numbers\", c)"
   ]
  },
  {
   "cell_type": "code",
   "execution_count": 5,
   "id": "f5a4243f-bafb-4748-82ee-f9fa7e2edd6a",
   "metadata": {},
   "outputs": [
    {
     "name": "stdout",
     "output_type": "stream",
     "text": [
      "List after removing None values [45, 34]\n"
     ]
    }
   ],
   "source": [
    "#Question 5\n",
    "list1 = [45, None , 34, None]\n",
    "c = list(filter(lambda a : a , [ i for i in list1 if i!= None]))\n",
    "print(\"List after removing None values\", c)"
   ]
  },
  {
   "cell_type": "code",
   "execution_count": 10,
   "id": "693c88b2-fdc6-4ffc-a01e-8846dc2bcca2",
   "metadata": {},
   "outputs": [
    {
     "name": "stdout",
     "output_type": "stream",
     "text": [
      "List with length of words greater then 3 - ['Python', 'Ruby', 'javas', 'jolt', 'parrot', 'Jail']\n"
     ]
    }
   ],
   "source": [
    "#Question 6\n",
    "list123 = [\"Python\" ,\"Ruby\", \"is\", \"at\", \"ate\", \"javas\", \"jolt\", \"parrot\", \"Jail\"]\n",
    "list1234 = list(filter(lambda a : a , [ i for i in list123 if len(i) > 3]))\n",
    "print(\"List with length of words greater then 3 -\",list1234)"
   ]
  },
  {
   "cell_type": "code",
   "execution_count": 4,
   "id": "bea94453-ee74-48da-8cf2-0b975a7b79ca",
   "metadata": {},
   "outputs": [
    {
     "name": "stdout",
     "output_type": "stream",
     "text": [
      "List with values greater then threshold of 30 -  [34, 56, 78, 89, 67]\n"
     ]
    }
   ],
   "source": [
    "#Question 7\n",
    "list_greater = [12, 34,56,78,89,67]\n",
    "filtered_list = list(filter(lambda a : a , [ i for i in list_greater if i > 30]))\n",
    "print(\"List with values greater then threshold of 30 - \",filtered_list)"
   ]
  },
  {
   "cell_type": "code",
   "execution_count": null,
   "id": "c3dc55d5-26ee-4e8c-9693-6659f5c41520",
   "metadata": {},
   "outputs": [],
   "source": [
    "#Recursion:\n",
    "#Question 1\n",
    "\"\"\"\n",
    "# Recursion is when a function calls itself directly or indirectly, and the function calling itself is called a recursive function. \n",
    "# It is mainly used when the solution to a bigger problem can be expressed in terms of smaller problems\n",
    "# In recursion, we use function calls to execute the statements repeatedly inside the function body, while in iteration, we use loops like “for” and “while” to do the same.\n",
    "\"\"\"\n",
    "\n",
    "\"\"\"\n",
    "Difference:- \n",
    "1. Recursion - Function calls itself directly or indirectly\n",
    "2. Iteration - When some set of instructions are executed repeatedly\n",
    "Implementation:-\n",
    "1. Recursion - Implemented using function calls\n",
    "2. Iteration - Implemented using loops\n",
    "Format:-\n",
    "1. Recursion - Base case and recursive relation are specifed\n",
    "2. Iteration - Includes initailizing control variable,termination condition and update of control variable\n",
    "Current State:-\n",
    "1. Recursion - Defined by parameters stored in stack\n",
    "2. Iteration - Defined by value of control variable\n",
    "Progression:-\n",
    "1. Recursion - The function state approached the base case\n",
    "2. Iteration - The control variable approaches the termination value\n",
    "\n",
    "\"\"\"\""
   ]
  },
  {
   "cell_type": "code",
   "execution_count": 21,
   "id": "bc44d598-5392-4d66-8a91-23885814658a",
   "metadata": {},
   "outputs": [
    {
     "name": "stdin",
     "output_type": "stream",
     "text": [
      "Enter the number to find its factorial 4\n"
     ]
    },
    {
     "data": {
      "text/plain": [
       "24"
      ]
     },
     "execution_count": 21,
     "metadata": {},
     "output_type": "execute_result"
    }
   ],
   "source": [
    "# Question 2\n",
    "def factorial(x):\n",
    "    if x == 0 or x == 1:\n",
    "        return 1\n",
    "       \n",
    "    if x > 1:\n",
    "        value = x * factorial(x - 1)\n",
    "        return value\n",
    "\n",
    "y = int(input(\"Enter the number to find its factorial\"))\n",
    "factorial(y)"
   ]
  },
  {
   "cell_type": "code",
   "execution_count": 31,
   "id": "1805ecb9-fa0d-46f0-906b-96fc216bfc5e",
   "metadata": {},
   "outputs": [
    {
     "name": "stdin",
     "output_type": "stream",
     "text": [
      "Enter the number to find its fibonacci 10\n"
     ]
    },
    {
     "name": "stdout",
     "output_type": "stream",
     "text": [
      "10 fibonacci number is  55\n"
     ]
    }
   ],
   "source": [
    "# Question 3\n",
    "term = {}\n",
    "\n",
    "def fibonacci(x):\n",
    "    if x in term:\n",
    "        return term[x]\n",
    "    if x == 0:\n",
    "        value = 0\n",
    "    elif x == 1:\n",
    "        value = 1\n",
    "    elif x > 1:\n",
    "        value = fibonacci(x-1) + fibonacci(x-2)\n",
    "    \n",
    "    term[x] = value\n",
    "    return value\n",
    "    \n",
    "n = int(input(\"Enter the number to find its fibonacci\"))\n",
    "print(f\"{n} fibonacci number is \", fibonacci(n))"
   ]
  },
  {
   "cell_type": "code",
   "execution_count": 61,
   "id": "348e355c-104c-48c7-b466-67e54ecfb17a",
   "metadata": {},
   "outputs": [
    {
     "name": "stdout",
     "output_type": "stream",
     "text": [
      "Sum of elements 15\n"
     ]
    }
   ],
   "source": [
    "# Question 4\n",
    "def recsum(num_list):\n",
    "    if len(num_list) == 0:\n",
    "        return 0\n",
    "    else:\n",
    "        return num_list[0] + recsum(num_list[1::])\n",
    "\n",
    "a = [1,2,3,4,5]\n",
    "b = recsum(a)\n",
    "print('Sum of elements',b)"
   ]
  },
  {
   "cell_type": "code",
   "execution_count": 60,
   "id": "64ef5bf1-04c4-444c-8f4e-a6ffa0fa11b7",
   "metadata": {},
   "outputs": [
    {
     "name": "stdout",
     "output_type": "stream",
     "text": [
      "Sum of elements 15\n"
     ]
    }
   ],
   "source": [
    "# Question 5\n",
    "\"\"\"\n",
    "In order to prevent stack overflow bugs, you must have a base case where the function stops make new recursive calls. \n",
    "If there is no base case then the function calls will never stop and eventually a stack overflow will occur. \n",
    "Here is an example of a recursive function with a base case\"\"\"\n",
    "\n",
    "def recsum(num_list):\n",
    "    if len(num_list) == 0:\n",
    "        return 0\n",
    "    else:\n",
    "        return num_list[0] + recsum(num_list[1::])\n",
    "\n",
    "a = [1,2,3,4,5]\n",
    "b = recsum(a)\n",
    "print('Sum of elements',b)"
   ]
  },
  {
   "cell_type": "code",
   "execution_count": 10,
   "id": "2ca44bea-eda4-4bb4-aa42-0e424387fa72",
   "metadata": {},
   "outputs": [
    {
     "name": "stdin",
     "output_type": "stream",
     "text": [
      "Enter the first number 12\n",
      "Enter the second number 14\n"
     ]
    },
    {
     "name": "stdout",
     "output_type": "stream",
     "text": [
      "GCD of two numbers are 2\n"
     ]
    }
   ],
   "source": [
    "#Question 6\n",
    "num1 = int(input(\"Enter the first number\"))\n",
    "num2 = int(input(\"Enter the second number\"))\n",
    "if num1 < num2:\n",
    "    minimum = num1\n",
    "    maximum = num2\n",
    "else:\n",
    "    minimum = num2\n",
    "    maximum = num1\n",
    "    \n",
    "def gcd(maximum, minimum):\n",
    "    if minimum == 0:\n",
    "        return maximum\n",
    "    else:\n",
    "        return gcd(minimum, maximum % minimum)\n",
    "\n",
    "print(\"GCD of two numbers are\",gcd(maximum, minimum))"
   ]
  },
  {
   "cell_type": "code",
   "execution_count": 33,
   "id": "3729e663-8684-4108-9304-b758e89e6e41",
   "metadata": {},
   "outputs": [
    {
     "data": {
      "text/plain": [
       "'ecneicSataD'"
      ]
     },
     "execution_count": 33,
     "metadata": {},
     "output_type": "execute_result"
    }
   ],
   "source": [
    "# Question 7\n",
    "\n",
    "def reverse(y):\n",
    "    if len(y) == 0:\n",
    "        return y\n",
    "    else:\n",
    "        return reverse(y[1::]) + y[0]\n",
    "\n",
    "x = \"DataScience\"\n",
    "reverse(x)"
   ]
  },
  {
   "cell_type": "code",
   "execution_count": 61,
   "id": "bf5a3d8c-e3a6-4417-b680-4d1d4cf5f453",
   "metadata": {},
   "outputs": [
    {
     "name": "stdin",
     "output_type": "stream",
     "text": [
      "Enter the number 4\n",
      "Enter the power 2\n"
     ]
    },
    {
     "data": {
      "text/plain": [
       "16"
      ]
     },
     "execution_count": 61,
     "metadata": {},
     "output_type": "execute_result"
    }
   ],
   "source": [
    "# Question 8\n",
    "def power(N,p):\n",
    "    if p == 0:\n",
    "        return 1\n",
    "    else:\n",
    "        return N * power(N, p-1)\n",
    "N = int(input('Enter the number'))\n",
    "p = int(input('Enter the power'))\n",
    "power(N,p)"
   ]
  },
  {
   "cell_type": "code",
   "execution_count": 34,
   "id": "abe89a74-69ff-4c05-921a-f2f4c6f70a84",
   "metadata": {},
   "outputs": [
    {
     "data": {
      "text/plain": [
       "['Pyt', 'yPt', 'ytP', 'Pty', 'tPy', 'tyP']"
      ]
     },
     "execution_count": 34,
     "metadata": {},
     "output_type": "execute_result"
    }
   ],
   "source": [
    "# Question 9\n",
    "def permutations(s):\n",
    "    if len(s) == 1:\n",
    "        return s\n",
    "    else:\n",
    "        perms = permutations(s[1:])\n",
    "        char = s[0]\n",
    "        result = []\n",
    "        \n",
    "        for perm in perms:\n",
    "            for i in range(len(perm)+1):\n",
    "                result.append(perm[:i] + char + perm[i:])\n",
    "        return result\n",
    "            \n",
    "s = 'Pyt'\n",
    "permutations(s)"
   ]
  },
  {
   "cell_type": "code",
   "execution_count": 60,
   "id": "7dc55fdf-1fd0-45ce-97c2-4db0cd2f6ead",
   "metadata": {},
   "outputs": [
    {
     "name": "stdin",
     "output_type": "stream",
     "text": [
      "Enter the string Madam\n"
     ]
    },
    {
     "name": "stdout",
     "output_type": "stream",
     "text": [
      "Palindrome\n"
     ]
    }
   ],
   "source": [
    "# Question 10\n",
    "\n",
    "def palindrome(str1):\n",
    "    \n",
    "    if len(str1) == 1:\n",
    "        return str1\n",
    "    else:\n",
    "        return palindrome(str1[1: :]) + str1[0]\n",
    "    \n",
    "str12 = input(\"Enter the string\")\n",
    "str1 = str12.lower()\n",
    "s = palindrome(str1)\n",
    "\n",
    "if s == str1:\n",
    "    print(\"Palindrome\")\n",
    "else:\n",
    "    print(\"Not Palindrome\")"
   ]
  },
  {
   "cell_type": "code",
   "execution_count": 74,
   "id": "17867356-3e8c-44cc-8760-9377eec3297f",
   "metadata": {},
   "outputs": [
    {
     "data": {
      "text/plain": [
       "[[],\n",
       " [1],\n",
       " [2],\n",
       " [2, 1],\n",
       " [3],\n",
       " [3, 1],\n",
       " [3, 2],\n",
       " [3, 2, 1],\n",
       " [4],\n",
       " [4, 1],\n",
       " [4, 2],\n",
       " [4, 2, 1],\n",
       " [4, 3],\n",
       " [4, 3, 1],\n",
       " [4, 3, 2],\n",
       " [4, 3, 2, 1],\n",
       " [5],\n",
       " [5, 1],\n",
       " [5, 2],\n",
       " [5, 2, 1],\n",
       " [5, 3],\n",
       " [5, 3, 1],\n",
       " [5, 3, 2],\n",
       " [5, 3, 2, 1],\n",
       " [5, 4],\n",
       " [5, 4, 1],\n",
       " [5, 4, 2],\n",
       " [5, 4, 2, 1],\n",
       " [5, 4, 3],\n",
       " [5, 4, 3, 1],\n",
       " [5, 4, 3, 2],\n",
       " [5, 4, 3, 2, 1]]"
      ]
     },
     "execution_count": 74,
     "metadata": {},
     "output_type": "execute_result"
    }
   ],
   "source": [
    "#Question 11\n",
    "def combinations(iterable):\n",
    "    if len(iterable) == 0:\n",
    "        return[[]]\n",
    "    combos = []\n",
    "    for combo in combinations(iterable[1:]):\n",
    "        combos += [combo , combo + [iterable[0]]]\n",
    "    return combos\n",
    "numbers = [ 1,2,3,4,5]\n",
    "combinations(numbers)"
   ]
  },
  {
   "cell_type": "code",
   "execution_count": null,
   "id": "d864421c-3b75-4321-9bd7-50bd5d952166",
   "metadata": {},
   "outputs": [],
   "source": [
    "#Basics of function\n",
    "# Question 1\n",
    "# Function is a peice of code written to carry out a specific tasks.\n",
    "# You use functions to bundle a set of code which you want to use repeateadly\n",
    "# Also if code is too complex its better to self contained in specific sub program and call them when requires"
   ]
  },
  {
   "cell_type": "code",
   "execution_count": null,
   "id": "28130bcf-d134-4c09-adbd-e14f346427a8",
   "metadata": {},
   "outputs": [],
   "source": [
    "# Question 2\n",
    "# We define a fucntion using a inbuilt function name 'def'\n",
    "def power(N,p): # Function Definition\n",
    "    if p == 0:\n",
    "        return 1\n",
    "    else:\n",
    "        return N * power(N, p-1)\n",
    "N = int(input('Enter the number'))\n",
    "p = int(input('Enter the power'))\n",
    "power(N,p) # Function call"
   ]
  },
  {
   "cell_type": "code",
   "execution_count": null,
   "id": "2ec67b66-b3b4-4aca-bdc8-e66a320ab963",
   "metadata": {},
   "outputs": [],
   "source": [
    "# Question 3\n",
    "\"\"\" Function definition is used to define the functions under which we will place the code\n",
    "related. We use 'def' as function nane to define the function\"\"\"\n",
    "\"\"\" Function call is a expression that invokes the function, executes the code in the function and returns the output\"\"\"\n"
   ]
  },
  {
   "cell_type": "code",
   "execution_count": 36,
   "id": "c989b284-8904-4313-9080-82a6fab60d02",
   "metadata": {},
   "outputs": [
    {
     "name": "stdout",
     "output_type": "stream",
     "text": [
      "Sum of two numbers 25\n"
     ]
    }
   ],
   "source": [
    "# Question 4\n",
    "def sum_two_numbers(a,b): # Function definition\n",
    "    sum1 = a + b\n",
    "    return sum1\n",
    "a = sum_two_numbers(12,13) # Function call\n",
    "print(\"Sum of two numbers\", a)"
   ]
  },
  {
   "cell_type": "code",
   "execution_count": 84,
   "id": "9a0fe7e0-de91-42ed-b9e4-9fb728712a2a",
   "metadata": {},
   "outputs": [
    {
     "name": "stdout",
     "output_type": "stream",
     "text": [
      "(a: int, b: int)\n",
      "a: int\n",
      "<class 'int'>\n"
     ]
    }
   ],
   "source": [
    "# Question 5\n",
    "\"\"\"In Python, a function signature provides crucial information about the types of parameters that a function can accept and the type of data it returns. \n",
    "   The signature() function from the inspect module is used to determine the function signature, helping developers to ensure they are passing the correct types of arguments to their functions. \n",
    "   This function can be particularly useful in large programs where a small mistake can lead to significant issues\"\"\"\n",
    "\"\"\"A function signature typically informs us about the types of parameters that a function can accept as arguments and the type of data or result it returns\"\"\"\n",
    "\"\"\"You need to import the inspect module before using the signature() function. The syntax of the function is as follows:\n",
    "inspect.signtaure(your_function)\"\"\"\n",
    "from inspect import signature\n",
    "#defining our function\n",
    "def addition(a:int, b:int):\n",
    "    ans= a + b\n",
    "    return ans\n",
    "#calling our function\n",
    "#print(\"The answer is =\",addition(3,5))\n",
    "# the input parameters of the function\n",
    "sig1 = signature(addition)\n",
    "print(sig1)\n",
    "#printing type of a\n",
    "print(sig.parameters['a'])\n",
    "#printing annotation of b\n",
    "print(sig.parameters['b'].annotation)"
   ]
  },
  {
   "cell_type": "code",
   "execution_count": 35,
   "id": "73ea2bcb-9bce-48b6-8163-d32c61d8e486",
   "metadata": {},
   "outputs": [
    {
     "name": "stdin",
     "output_type": "stream",
     "text": [
      "Enter the first number 12\n",
      "Enter the second number 34\n"
     ]
    },
    {
     "name": "stdout",
     "output_type": "stream",
     "text": [
      "Product of two numbers are -  408\n"
     ]
    }
   ],
   "source": [
    "#Question 6\n",
    "def product(a,b):\n",
    "    prod = a * b\n",
    "    return prod\n",
    "num1 = int(input(\"Enter the first number\"))\n",
    "num2 = int(input(\"Enter the second number\"))\n",
    "print(\"Product of two numbers are - \", product(num1,num2))"
   ]
  },
  {
   "cell_type": "code",
   "execution_count": 46,
   "id": "fb204435-9e20-4dd6-af07-145c6877d4ab",
   "metadata": {},
   "outputs": [
    {
     "data": {
      "text/plain": [
       "'\\ndef display(rollno, **kwargs):\\n    for key, val in kwargs.items(): \\n        print(\"{0} : {1}\".format(key, val))\\ndisplay(1, name = \\'Apurv\\', marks = 95, grade = \\'A+\\', result = \\'PASS\\')\\n'"
      ]
     },
     "execution_count": 46,
     "metadata": {},
     "output_type": "execute_result"
    }
   ],
   "source": [
    "#Function Parameters and Arguments\n",
    "\n",
    "\"\"\"\n",
    "# Question 1\n",
    "\n",
    "#Formal Parameters - Formal Parameters are the parameters which are specified during the definition of the function\n",
    "def sum(a,b): # a, b are acting as formal parameters\n",
    "    return a + b \n",
    "sum(12,13)\n",
    "\n",
    "#Actual Parameters are the parameters which are specified during the function call. Actual Parameters are actually of four types :\n",
    "# 1.Positional Parameters\n",
    "# 2.Keyword Parameters\n",
    "# 3.Default Parameters\n",
    "# 4.Variable length Parameters\n",
    "\n",
    "\n",
    "# 1.Positional Parameters/ Arguments\n",
    "# Positional Parameters are the parameters that are passed to the function in the correct positional order. For example, consider following code\n",
    "#Ex:-\n",
    "def result(name, marks):\n",
    "    result(\"Geek\", 95)\n",
    "result(\"Geek\",95)\n",
    "\n",
    "# 2. Keyword Parameters/ Arguments - Keyword Parameters are the parameters that are are capable of identifying the parameters with their specified name. \n",
    "# In Keyword parameters, maintaining order is not mandatory as we are already specifying the correct parameter with its name.\n",
    "#Ex:-\n",
    "def result(name, marks):\n",
    "    result(name = \"Geek\", marks = 95)\n",
    "\n",
    "def result(name, marks):\n",
    "    print(\"Name of student : \", name)\n",
    "    cgpa = marks/10\n",
    "    print(\"CGPA is : \", cgpa)\n",
    "\n",
    "# calling above function with name as \"Geek\" and marks as 95. \n",
    "result(name = \"Geek\", marks = 95)\n",
    "\n",
    "# 3. Default Parameters/ Arguments\n",
    "# Default Parameters are the parameters in which we can specify the default value for the parameters in the function definition. \"\"\"\n",
    "\"\"\"\n",
    "# For example, consider following code :\n",
    "# Ex:1\n",
    "def result(name, marks = 95):\n",
    "    return name, marks\n",
    "result(\"Geek\")\n",
    "\n",
    "# Ex:2\n",
    "def result(name, marks = 95): # Actual value takes priority over default vaues\n",
    "    print(\"Name of student : \", name)\n",
    "    cgpa = marks/10\n",
    "    print(\"CGPA is : \", cgpa)\n",
    "result(\"Geek\", 90) \n",
    "\n",
    "\n",
    "# 4. Variable Length Parameters/ Arguments – *args & **kwargs\n",
    "# We can pass 1 or more values to *args and it will store them in tuple (stores a group of elements).\n",
    "\n",
    "# Ex1\n",
    "def square_of_numbers(farg, *args):\n",
    "    print(\"Type of arg is \", type(args))\n",
    "    print(\"farg is : \", farg)\n",
    "    for each_arg in args: \n",
    "        print(\"args is : \", each_arg)\n",
    "square_of_numbers(1, 5, 10, 15)\n",
    "\n",
    "# 5. kwargs : In Python, **kwargs represents the keyword variable arguments or parameters. \n",
    "# This argument represents the dictionary object. Dictionary in Python stores the data in the form of key-value pairs\"\"\"\n",
    "\"\"\"\n",
    "def display(rollno, **kwargs):\n",
    "    for key, val in kwargs.items(): \n",
    "        print(\"{0} : {1}\".format(key, val))\n",
    "display(1, name = 'Apurv', marks = 95, grade = 'A+', result = 'PASS')\n",
    "\"\"\""
   ]
  },
  {
   "cell_type": "code",
   "execution_count": 50,
   "id": "f78942dc-d42f-4cfb-8061-097b5192f975",
   "metadata": {},
   "outputs": [
    {
     "name": "stdout",
     "output_type": "stream",
     "text": [
      "55\n",
      "60\n"
     ]
    }
   ],
   "source": [
    "# Question 2\n",
    "def default(a = 30 , b = 25): # a and b are default argument values\n",
    "    return a + b\n",
    "a = default()\n",
    "print(a)\n",
    "\n",
    "def default(a = 30 ,b = 25): # a and b are default argument values. In this case values given at function call takes precendence \n",
    "    return a + b\n",
    "c = default(40,20)\n",
    "print(c)"
   ]
  },
  {
   "cell_type": "code",
   "execution_count": 14,
   "id": "253966e4-22d6-48b6-a9a9-8dc76fee002d",
   "metadata": {},
   "outputs": [
    {
     "name": "stdout",
     "output_type": "stream",
     "text": [
      "name : Apurv\n",
      "marks : 95\n",
      "grade : A+\n",
      "result : PASS\n"
     ]
    }
   ],
   "source": [
    "# Question 3\n",
    "#  kwargs : In Python, **kwargs represents the keyword variable arguments or parameters. \n",
    "# This argument represents the dictionary object. Dictionary in Python stores the data in the form of key-value pairs\"\"\"\n",
    "\n",
    "def display(rollno, **kwargs):\n",
    "    for key, val in kwargs.items(): \n",
    "        print(\"{0} : {1}\".format(key, val))\n",
    "display(1, name = 'Apurv', marks = 95, grade = 'A+', result = 'PASS') "
   ]
  },
  {
   "cell_type": "code",
   "execution_count": 52,
   "id": "ddab2247-aabb-454a-8905-a88083824b7d",
   "metadata": {},
   "outputs": [
    {
     "data": {
      "text/plain": [
       "39"
      ]
     },
     "execution_count": 52,
     "metadata": {},
     "output_type": "execute_result"
    }
   ],
   "source": [
    "# Question 4\n",
    "def sum_int1(*che):\n",
    "    s = 0\n",
    "    for i in che:\n",
    "        s = s + int(i)\n",
    "    return s\n",
    "sum_int1(12,13,14)"
   ]
  },
  {
   "cell_type": "code",
   "execution_count": 53,
   "id": "a4313ff0-70da-4033-aab8-c2e6e0b53f38",
   "metadata": {},
   "outputs": [
    {
     "name": "stdout",
     "output_type": "stream",
     "text": [
      "Type of arg is  <class 'tuple'>\n",
      "farg is :  1\n",
      "args is :  5\n",
      "args is :  10\n",
      "args is :  15\n",
      "Second Example\n",
      "name : Apurv\n",
      "marks : 95\n",
      "grade : A+\n",
      "result : PASS\n"
     ]
    }
   ],
   "source": [
    "# Question 5\n",
    "# Variable Length Parameters/ Arguments – *args & **kwargs\n",
    "# We can pass 1 or more values to *args and it will store them in tuple (stores a group of elements).\n",
    "\n",
    "# Ex1\n",
    "def square_of_numbers(farg, *args):\n",
    "    print(\"Type of arg is \", type(args))\n",
    "    print(\"farg is : \", farg)\n",
    "    for each_arg in args: \n",
    "        print(\"args is : \", each_arg)\n",
    "square_of_numbers(1, 5, 10, 15)\n",
    "\n",
    "# kwargs : In Python, **kwargs represents the keyword variable arguments or parameters. \n",
    "# This argument represents the dictionary object. Dictionary in Python stores the data in the form of key-value pairs\"\"\"\n",
    "\n",
    "print(\"Second Example\")\n",
    "\n",
    "def display(rollno, **kwargs):\n",
    "    for key, val in kwargs.items(): \n",
    "        print(\"{0} : {1}\".format(key, val))\n",
    "display(1, name = 'Apurv', marks = 95, grade = 'A+', result = 'PASS')"
   ]
  },
  {
   "cell_type": "code",
   "execution_count": 55,
   "id": "8df877dc-adf0-4b69-8d0e-b8633c4e3874",
   "metadata": {},
   "outputs": [
    {
     "name": "stdout",
     "output_type": "stream",
     "text": [
      "39\n"
     ]
    }
   ],
   "source": [
    "# Return Values amd strings\n",
    "# Question 1\n",
    "# A return statement is used to end the execution of the function call and “returns” the result (value of the expression following the return keyword) to the caller. \n",
    "#The statements after the return statements are not executed\n",
    "def sum_int1(*che):\n",
    "    s = 0\n",
    "    for i in che:\n",
    "        s = s + int(i)\n",
    "    return s  \n",
    "a = sum_int1(12,13,14)\n",
    "print(a)"
   ]
  },
  {
   "cell_type": "code",
   "execution_count": 67,
   "id": "140881e8-b57b-4e80-8a4c-29fe40304f58",
   "metadata": {},
   "outputs": [
    {
     "name": "stdout",
     "output_type": "stream",
     "text": [
      "Example for local variable\n",
      "Local Variable 10\n",
      "Example for global variable\n",
      "Global Variable 20\n"
     ]
    }
   ],
   "source": [
    "# Question 2\n",
    "# Python Global variables are those which are not defined inside any function and have a global scope \n",
    "# Python local variables are those which are defined inside a function and their scope is limited to that function only.\n",
    "\"\"\"Local variables can only be accessed within the function or module in which they are defined, \n",
    "in contrast to global variables, which can be used throughout the entire program.\n",
    "In Python, Global variable can be defined using global Keyword, also we can make changes to the variable in local context\"\"\"\n",
    "\"\"\"\n",
    "There are some key Difference Between Local and Global Variable in Python:\n",
    "a. Global variables are declared outside the functions whereas local variables are declared within the functions.\n",
    "b. Local variables are created when the function starts its execution and are lost when the function ends. \n",
    "c. Global variables, on the other hand, are created as execution of the program begins and are lost when the program is ended. \n",
    "d. In contrast to global variables, local variables do not offer data sharing.\n",
    "e. While global variables are kept in a fixed location selected by the compiler, local variables are kept on the stack.\n",
    "f. For local variables, parameter passing is necessary, but not for global variables.\n",
    "g. In Python, Global variables can be defined using global Keyword whereas local variables can be defined directly.\"\"\"\n",
    "\n",
    "#Example for local variable\n",
    "print(\"Example for local variable\")\n",
    "def fun():\n",
    "    a = 10\n",
    "    return(a)\n",
    "print(\"Local Variable\",fun())\n",
    "\n",
    "#Example for global variable\n",
    "\n",
    "print(\"Example for global variable\")\n",
    "a = 20\n",
    "def fun():\n",
    "    global a\n",
    "    return(a)\n",
    "print(\"Global Variable\",fun())"
   ]
  },
  {
   "cell_type": "code",
   "execution_count": 68,
   "id": "c20d81a5-cb10-467b-8545-41dd124b0adf",
   "metadata": {},
   "outputs": [
    {
     "name": "stdout",
     "output_type": "stream",
     "text": [
      "Global Variable 30\n"
     ]
    }
   ],
   "source": [
    "# Question 3\n",
    "a = 20\n",
    "def fun(b):\n",
    "    global a\n",
    "    return(a+b)\n",
    "print(\"Global Variable\",fun(10))"
   ]
  },
  {
   "cell_type": "code",
   "execution_count": 73,
   "id": "b615ca7d-9709-4d7a-8f40-0781f940cff5",
   "metadata": {},
   "outputs": [
    {
     "name": "stdin",
     "output_type": "stream",
     "text": [
      "Enter the number to find factorial 6\n"
     ]
    },
    {
     "data": {
      "text/plain": [
       "720"
      ]
     },
     "execution_count": 73,
     "metadata": {},
     "output_type": "execute_result"
    }
   ],
   "source": [
    "# Question 4\n",
    "def factorial(n):\n",
    "    if n<= 1:\n",
    "        return 1\n",
    "    else:\n",
    "        return n * factorial(n-1)\n",
    "n = int(input(\"Enter the number to find factorial\"))\n",
    "factorial(n)"
   ]
  },
  {
   "cell_type": "code",
   "execution_count": 74,
   "id": "f4d5dc14-eebf-47d8-857d-a47e8d46e579",
   "metadata": {},
   "outputs": [
    {
     "name": "stdout",
     "output_type": "stream",
     "text": [
      "Global Variable 30\n"
     ]
    }
   ],
   "source": [
    "# Question 5\n",
    "# Uses Keyword Global to access the variables defined outside the function\n",
    "a = 20\n",
    "def fun(b):\n",
    "    global a\n",
    "    return(a+b)\n",
    "print(\"Global Variable\",fun(10))"
   ]
  },
  {
   "cell_type": "code",
   "execution_count": null,
   "id": "73eb81d4-4661-4d60-99f9-000dc979a058",
   "metadata": {},
   "outputs": [],
   "source": [
    "# Lambda Functions and Higher-Order Functions:\n",
    "# Question 1\n",
    "\"\"\"\n",
    "What are Anonymous Functions in Python?\n",
    "In Python, an anonymous function may be a function that’s defined without a reputation.\n",
    "While defining normal functions, we are using the def keyword in Python, but while defining anonymous functions we are using the lambda keyword.\n",
    "Hence, anonymous functions also are called Lambda functions.\n",
    "\n",
    "Syntax of Lambda Function in Python - lambda arguments: expression\"\"\"\n",
    "\n",
    "\"\"\"\n",
    "1. Use the lambda function to create simple expressions.\n",
    " .\n",
    "2. We use lambda functions once we require a nameless function for a brief period of your time.\n",
    "\n",
    "3. Use Lambda Functions as an argument to a higher-order function (a function that takes in other functions as arguments).\n",
    "\n",
    "4. For Example, These are used together with built-in functions like filter(), map(), and reduce(), etc"
   ]
  },
  {
   "cell_type": "code",
   "execution_count": 84,
   "id": "64836bb5-3ff8-4ff4-9250-45e0fd1500b0",
   "metadata": {},
   "outputs": [
    {
     "name": "stdout",
     "output_type": "stream",
     "text": [
      "Orignal Tuple List : [(200, 6), (100, 3), (400, 12), (300, 9)]\n",
      "Sorted Tuple List: [(100, 3), (200, 6), (300, 9), (400, 12)]\n"
     ]
    }
   ],
   "source": [
    "# Question 2\n",
    "#tuple list\n",
    "tuple = [(200, 6), (100, 3), (400, 12), (300, 9)]\n",
    "print(\"Orignal Tuple List :\" ,tuple)\n",
    "\n",
    "def Sort(tuple): \n",
    "    tuple.sort(key = lambda a: a[1]) \n",
    "    return tuple \n",
    "\n",
    "# printing the sorted list of tuples\n",
    "print(\"Sorted Tuple List:\" ,Sort(tuple))"
   ]
  },
  {
   "cell_type": "code",
   "execution_count": 58,
   "id": "ee4952ab-e896-4960-8531-6d2d804b8e43",
   "metadata": {},
   "outputs": [
    {
     "name": "stdout",
     "output_type": "stream",
     "text": [
      "Example -1\n",
      "List with even numbers [2, 4, 6, 8]\n",
      "Example - 2\n",
      "Maximun of elements in list -  567\n"
     ]
    }
   ],
   "source": [
    "#Question 3\n",
    "\"\"\"\n",
    "Higher-order functions are functions that take a function as a parameter and/or return a function as an output. \n",
    "A few useful higher-order functions are map() , filter() , and reduce() . map() and filter() are built-in functions,\n",
    "whereas reduce() is contained in functools() module.\"\"\"\n",
    "\n",
    "print(\"Example -1\")\n",
    "listf = [1,2,3,4,5,6,7,8,9]\n",
    "even_list = list(filter(lambda a : a, [ i for i in listf if i%2==0]))\n",
    "print(\"List with even numbers\", even_list)\n",
    "\n",
    "print(\"Example - 2\")\n",
    "\n",
    "list102 = [12,34,567,78,97]\n",
    "print(\"Maximun of elements in list - \", reduce(lambda a, b : max(a,b),list102))\n"
   ]
  },
  {
   "cell_type": "code",
   "execution_count": 3,
   "id": "582246a3-ca87-47c3-be2e-be45810ab998",
   "metadata": {},
   "outputs": [
    {
     "name": "stdout",
     "output_type": "stream",
     "text": [
      "[4, 8, 12, 14, 16, 18]\n"
     ]
    }
   ],
   "source": [
    "# Question 4\n",
    "l = [ 2,4,6,7,8,9]\n",
    "a = list(map(lambda a : a*2, l))\n",
    "print(a)"
   ]
  },
  {
   "cell_type": "code",
   "execution_count": null,
   "id": "4ffa04b6-4311-487c-ad2b-aa13ba7fce4b",
   "metadata": {},
   "outputs": [],
   "source": [
    "# Built In funcations\n",
    "# Question 1\n",
    "len() - It returns the number of items on container\n",
    "max() - Returns the largest value from the container\n",
    "min() - Returns the smallest value from the container"
   ]
  },
  {
   "cell_type": "code",
   "execution_count": 62,
   "id": "725f8d23-9b78-4a98-b1ad-479fa3b2881b",
   "metadata": {},
   "outputs": [
    {
     "name": "stdout",
     "output_type": "stream",
     "text": [
      "[4, 8, 12, 14, 16, 18]\n"
     ]
    }
   ],
   "source": [
    "# Question 2\n",
    "l = [ 2,4,6,7,8,9]\n",
    "a = list(map(lambda a : a*2, l))\n",
    "print(a)"
   ]
  },
  {
   "cell_type": "code",
   "execution_count": null,
   "id": "c8e3d14a-bd55-434d-864d-9fac5e5809af",
   "metadata": {},
   "outputs": [],
   "source": [
    "# Question 3\n",
    "# filter() - It is used to filter the elements from the container based on the condition\n",
    "# Its applies the function on each element of the container and returns the value which satisfies the condition\n",
    "# It is used when need is to filter the elements from the container\n"
   ]
  },
  {
   "cell_type": "code",
   "execution_count": 59,
   "id": "18f7f5de-78ba-4687-9076-1c8bc9302c9e",
   "metadata": {},
   "outputs": [
    {
     "name": "stdout",
     "output_type": "stream",
     "text": [
      "120\n"
     ]
    }
   ],
   "source": [
    "# Question 4\n",
    "from functools import reduce\n",
    "l = [1,2,3,4,5]\n",
    "c = reduce(lambda a, b : a * b, l)\n",
    "print(c)"
   ]
  },
  {
   "cell_type": "code",
   "execution_count": null,
   "id": "8fdb1d7b-146a-4ee8-b572-cd75c98e514b",
   "metadata": {},
   "outputs": [],
   "source": [
    "#Function Documentation and Best Practices:\n",
    "# 1. Python documentation strings (or docstrings) provide a convenient way of associating documentation with Python modules, functions, classes, and methods. \n",
    "# 2. It’s specified in source code that is used, like a comment, to document a specific segment of code. \n",
    "# 3. Docstring should describe what the function does, not how.\n",
    "# 4. Declaring Docstrings: The docstrings are declared using ”’triple single quotes”’ or “”” triple double quotes “”” just below the class, method, or function declaration. \n",
    "# 5. All functions should have a docstring.\n",
    "# 6. Accessing Docstrings: The docstrings can be accessed using the __doc__ method of the object or using the help function. \n",
    "# 7. The below examples demonstrate how to declare and access a docstring.\n",
    "\n",
    "# What should a docstring look like?\n",
    "# 1. The doc string line should begin with a capital letter and end with a period.\n",
    "# 2. The first line should be a short description.\n",
    "# 3. If there are more lines in the documentation string, the second line should be blank, visually separating the summary from the rest of the description.\n",
    "# 4. The following lines should be one or more paragraphs describing the object’s calling conventions, side effects, etc."
   ]
  },
  {
   "cell_type": "code",
   "execution_count": null,
   "id": "ceb55e02-5a84-4a93-a99f-9c4b7b2d8e0d",
   "metadata": {},
   "outputs": [],
   "source": [
    "# Question 2\n",
    "# In Python, the conventions for naming functions are as follows:\n",
    "\n",
    "# 1. Use lowercase letters: Function names should be in lowercase. If the function name consists of multiple words, separate them using underscores (_).\n",
    "# 2. Be descriptive and use clear names: The function name should clearly describe the purpose of the function. This makes the code more readable and easier for others to understand.\n",
    "# 3. Avoid single-letter names: Single-letter names can be confusing and are not descriptive. Choose names that are meaningful and explanatory.\n",
    "# 4. Do not use reserved words: Do not use Python keywords as function names, as it may cause errors and unexpected behavior.\n",
    "# 5. Start with a verb if it’s an action: If the function is performing an action or operation, it’s a good convention to start the name with a verb, such as “calculate_sum” or “update_record”.\n",
    "\n",
    "\n",
    "# Rules for Python variables:\n",
    "\n",
    "# 1. A variable name must start with a letter or the underscore character\n",
    "# 2. A variable name cannot start with a number\n",
    "# 3. A variable name can only contain alpha-numeric characters and underscores (A-z, 0-9, and _ )\n",
    "# 4. Variable names are case-sensitive (age, Age and AGE are three different variables)\n"
   ]
  }
 ],
 "metadata": {
  "kernelspec": {
   "display_name": "Python 3 (ipykernel)",
   "language": "python",
   "name": "python3"
  },
  "language_info": {
   "codemirror_mode": {
    "name": "ipython",
    "version": 3
   },
   "file_extension": ".py",
   "mimetype": "text/x-python",
   "name": "python",
   "nbconvert_exporter": "python",
   "pygments_lexer": "ipython3",
   "version": "3.10.8"
  }
 },
 "nbformat": 4,
 "nbformat_minor": 5
}
